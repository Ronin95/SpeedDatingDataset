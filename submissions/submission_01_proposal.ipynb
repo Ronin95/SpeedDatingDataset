{
 "cells": [
  {
   "cell_type": "markdown",
   "id": "06fe92e2-ddd0-4a2a-a479-d7d6a7e7a85d",
   "metadata": {},
   "source": [
    "# Submission 1 - Proposal"
   ]
  },
  {
   "cell_type": "markdown",
   "id": "658bcb84-4b8f-4c28-acf0-2c76b39c428d",
   "metadata": {},
   "source": [
    "**Instructions:**\n",
    "- Fill out the 'Team Information','Data Information' and 'Hypotheses' sections (replace the TODOs with your information)\n",
    "- Export the Jupyter notebook as a HTML file and save it in this repository.\n",
    "  - Go to 'File' -> 'Save and Export Notebook As..' -> 'HTML'.\n",
    "  - Save it locally in your project folder. You can leave the name as it is.\n",
    "  - Push your local changes to the GitHub repository.\n",
    "- Upload the generated HTML for the Moodle submission."
   ]
  },
  {
   "cell_type": "markdown",
   "id": "10010851-a1ba-474b-b165-748017334668",
   "metadata": {
    "tags": []
   },
   "source": [
    "---\n",
    "## Team Information"
   ]
  },
  {
   "cell_type": "markdown",
   "id": "d23dd551-b591-4365-8738-3d950ce8c46e",
   "metadata": {},
   "source": [
    "**Team Name:** VitaminD"
   ]
  },
  {
   "cell_type": "markdown",
   "id": "2ae4f196-e767-4a8b-ab00-075fe059f008",
   "metadata": {},
   "source": [
    "**Team Members:**\n",
    "- k08925980 - Josef Schodl\n",
    "- k12114346 - Nikola Badjevic\n",
    "- k01608113 - Hao Zheng\n",
    "- k12102933 - Hector Auvinen"
   ]
  },
  {
   "cell_type": "markdown",
   "id": "e48444d8-421f-49c0-bde8-4d7517b387fa",
   "metadata": {
    "tags": []
   },
   "source": [
    "---\n",
    "## Dataset Information"
   ]
  },
  {
   "cell_type": "markdown",
   "id": "47e6d80d-5aff-4d69-ba7a-cc05b82ed1ec",
   "metadata": {
    "tags": []
   },
   "source": [
    "**Where is It From:**  \n",
    "(max. 75 words)"
   ]
  },
  {
   "cell_type": "markdown",
   "id": "6406db61-1938-4dc8-a95f-92ce209ada6a",
   "metadata": {},
   "source": [
    "Speed Dating:\n",
    "We found the dataset on kaggle.com <br>\n",
    "https://www.kaggle.com/datasets/whenamancodes/speed-dating?resource=download <br>"
   ]
  },
  {
   "cell_type": "markdown",
   "id": "a99d086d-6423-4d87-8bdd-5c4919e9ad7d",
   "metadata": {},
   "source": [
    "**What is It About:**  \n",
    "(max. 75 words)"
   ]
  },
  {
   "cell_type": "markdown",
   "id": "eac20b26-45ac-44f0-bca0-c8ee2109c685",
   "metadata": {},
   "source": [
    "The dataset shows dating behavior using data from a Speed Dating experiment at a university where the authors generated random matching of subjects and created random variation in the number of potential partners. Furthermore, participants were surveyed about their demographic information, dating behavior, hobbys and what they look for in a partner. "
   ]
  },
  {
   "cell_type": "markdown",
   "id": "6fdd2cc2-78c9-46fe-a1a3-1da890e42195",
   "metadata": {},
   "source": [
    "**Size of the Dataset:**   \n",
    "(max. 75 words)"
   ]
  },
  {
   "cell_type": "markdown",
   "id": "bd4efdaa-b0e5-4c2b-9a09-4427fd0288bd",
   "metadata": {},
   "source": [
    "The Dataset has 195 columns and 8379 rows, the file is 5.19 MB big. The original format of the dataset is a .csv file."
   ]
  },
  {
   "cell_type": "markdown",
   "id": "1342c4f0-3978-4c13-bb60-f5f5815009fe",
   "metadata": {},
   "source": [
    "---\n",
    "## Hypotheses"
   ]
  },
  {
   "cell_type": "markdown",
   "id": "0ea83f81-efb3-44dc-873d-9a47c53de7cf",
   "metadata": {},
   "source": [
    "### Simple Hypotheses"
   ]
  },
  {
   "cell_type": "markdown",
   "id": "24d69728-a81b-4c00-b292-a6ead0c36c55",
   "metadata": {},
   "source": [
    "**1.** A match is more likely to occur for those who estimated that they will receive a high number of matches"
   ]
  },
  {
   "cell_type": "markdown",
   "id": "8bd9a189-89ff-490d-81f6-98cb9c515565",
   "metadata": {},
   "source": [
    "**2.** People whose goal was \"to get a date\"/\"looking for a serious relationship\" got more matches than people whose goals was \"to meet new people\"/\"seemed like a fun night out\""
   ]
  },
  {
   "cell_type": "markdown",
   "id": "57435e11-867f-409c-964c-77e162e38d75",
   "metadata": {},
   "source": [
    "### Complex Hypotheses"
   ]
  },
  {
   "cell_type": "markdown",
   "id": "eb295345-93fc-4dfb-8fec-dd37d8d34fba",
   "metadata": {},
   "source": [
    "**1.** Business students' favorite activities are sports and clubbing, and they like go out often while engineering students' favorite activies are gaming and they rarely go out."
   ]
  },
  {
   "cell_type": "markdown",
   "id": "fc3b54ae-77b0-45f3-960e-5e640b760b96",
   "metadata": {},
   "source": [
    "**2.** While math and engineering students mainly look for intelligence and ambition in a partner, fine arts and  social science students put importance on fun and shared interests.\n"
   ]
  },
  {
   "cell_type": "markdown",
   "id": "5546013a",
   "metadata": {},
   "source": []
  }
 ],
 "metadata": {
  "kernelspec": {
   "display_name": "Python 3",
   "language": "python",
   "name": "python3"
  },
  "language_info": {
   "codemirror_mode": {
    "name": "ipython",
    "version": 3
   },
   "file_extension": ".py",
   "mimetype": "text/x-python",
   "name": "python",
   "nbconvert_exporter": "python",
   "pygments_lexer": "ipython3",
   "version": "3.10.5 (tags/v3.10.5:f377153, Jun  6 2022, 16:14:13) [MSC v.1929 64 bit (AMD64)]"
  },
  "vscode": {
   "interpreter": {
    "hash": "8e3e987787bea660ee85a6dcea0d6d6df6cee0ee70e18db2e59587324e2c510e"
   }
  }
 },
 "nbformat": 4,
 "nbformat_minor": 5
}
